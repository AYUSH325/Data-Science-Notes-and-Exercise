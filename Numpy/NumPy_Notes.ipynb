{
 "cells": [
  {
   "cell_type": "code",
   "execution_count": 3,
   "metadata": {},
   "outputs": [
    {
     "data": {
      "text/plain": [
       "array([[0.73853651, 0.88831447, 0.85442684, 0.25316726],\n",
       "       [0.09656985, 0.68948639, 0.7340969 , 0.95857592]])"
      ]
     },
     "execution_count": 3,
     "metadata": {},
     "output_type": "execute_result"
    }
   ],
   "source": [
    "import numpy as np\n",
    "\n",
    "my_List = [1,2,3]\n",
    "arr = np.array(my_List)\n",
    "\n",
    "my_mat = [[1,2,3], [2,3,4], [3,4,5]]\n",
    "\n",
    "arr2 = np.array(my_mat)\n",
    "\n",
    "#like python's range (start,end,step size)\n",
    "np.arange(0,10,2)\n",
    "\n",
    "np.zeros((3,3))\n",
    "np.ones((3,3))\n",
    "\n",
    "# start, stop, number for evenly spaced points between start and stop\n",
    "np.linspace(0,5,10)\n",
    "\n",
    "#creates an identity matrix\n",
    "np.eye(4)\n",
    "\n",
    "#random numbers from 0 to 1, dimensions inside brackets\n",
    "np.random.rand(5,5)\n",
    "np.random.rand(2,4)\n",
    "\n",
    "#between -1 and 1\n",
    "np.random.randn(5,5)\n",
    "\n",
    "#random integers from low to high number, 3rd argument is how many numbers\n",
    "arr = np.random.randint(1, 100, 10)\n",
    "\n",
    "#reshapes arrays, depends on size of array\n",
    "arr.reshape(2,5)\n",
    "\n",
    "\n",
    "arr.max()\n",
    "arr.min()\n",
    "\n",
    "#index of max/min\n",
    "arr.argmax()\n",
    "arr.argmin()\n",
    "\n",
    "#gives the dimensions of array\n",
    "arr.shape \n",
    "\n",
    "#array datatype\n",
    "arr.dtype\n",
    "\n",
    "\n"
   ]
  },
  {
   "cell_type": "code",
   "execution_count": 46,
   "metadata": {},
   "outputs": [
    {
     "name": "stdout",
     "output_type": "stream",
     "text": [
      "[100 100 100 100 100 100 100 100 100 100 100]\n",
      "[99 99 99 99 99 99  6  7  8  9 10]\n"
     ]
    }
   ],
   "source": [
    "arr = np.arange(0,11)\n",
    "\n",
    "#slicing\n",
    "arr[0:4]\n",
    "arr[5:]\n",
    "\n",
    "arr[0:5] = 100\n",
    "\n",
    "\n",
    "arr = np.arange(0,11)\n",
    "\n",
    "slice_of_arr = arr[0:6]\n",
    "\n",
    "#also occurs in original array does not create a copy\n",
    "slice_of_arr[:] = 99\n",
    "\n",
    "#to create a copy of array\n",
    "arr_copy = arr.copy()\n",
    "arr_copy[:] = 100\n",
    "\n"
   ]
  },
  {
   "cell_type": "code",
   "execution_count": 52,
   "metadata": {},
   "outputs": [
    {
     "data": {
      "text/plain": [
       "array([[10, 15],\n",
       "       [25, 30]])"
      ]
     },
     "execution_count": 52,
     "metadata": {},
     "output_type": "execute_result"
    }
   ],
   "source": [
    "arr_2d = np.array([[5,10,15],[20,25,30],[35,40,45]])\n",
    "\n",
    "#arr[2][1] = arr[2,1]\n",
    "arr_2d[1,2]\n",
    "\n",
    "#2d slicing\n",
    "arr_2d[:2,1:]"
   ]
  },
  {
   "cell_type": "code",
   "execution_count": 64,
   "metadata": {},
   "outputs": [
    {
     "data": {
      "text/plain": [
       "array([[13, 14],\n",
       "       [23, 24]])"
      ]
     },
     "execution_count": 64,
     "metadata": {},
     "output_type": "execute_result"
    }
   ],
   "source": [
    "arr = np.arange(1,11)\n",
    "\n",
    "#gives a boolean array\n",
    "bool_array = arr > 5\n",
    "\n",
    "#only returns elements which are true\n",
    "arr[bool_array]\n",
    "\n",
    "#above in one step\n",
    "arr[arr>5]\n",
    "\n",
    "arr = np.arange(50).reshape(5,10)\n",
    "\n",
    "arr[1:3,3:5]\n",
    "\n"
   ]
  },
  {
   "cell_type": "code",
   "execution_count": 78,
   "metadata": {},
   "outputs": [
    {
     "data": {
      "text/plain": [
       "array([ 0.        ,  0.84147098,  0.90929743,  0.14112001, -0.7568025 ,\n",
       "       -0.95892427, -0.2794155 ,  0.6569866 ,  0.98935825,  0.41211849,\n",
       "       -0.54402111])"
      ]
     },
     "execution_count": 78,
     "metadata": {},
     "output_type": "execute_result"
    }
   ],
   "source": [
    "arr = np.arange(0,11)\n",
    "\n",
    "arr + arr\n",
    "arr * arr\n",
    "arr - 100\n",
    "#1/arr\n",
    "arr ** 10\n",
    "\n",
    "#check numpy math functions in docs\n",
    "np.sqrt(arr)\n",
    "np.exp(arr)\n",
    "np.max(arr) #arr.max()\n",
    "\n",
    "#np.log(arr)\n",
    "np.sin(arr)\n",
    "\n"
   ]
  }
 ],
 "metadata": {
  "kernelspec": {
   "display_name": "Python 3",
   "language": "python",
   "name": "python3"
  },
  "language_info": {
   "codemirror_mode": {
    "name": "ipython",
    "version": 3
   },
   "file_extension": ".py",
   "mimetype": "text/x-python",
   "name": "python",
   "nbconvert_exporter": "python",
   "pygments_lexer": "ipython3",
   "version": "3.11.1"
  },
  "orig_nbformat": 4
 },
 "nbformat": 4,
 "nbformat_minor": 2
}
